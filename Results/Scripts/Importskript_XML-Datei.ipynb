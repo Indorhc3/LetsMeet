{
 "cells": [
  {
   "cell_type": "code",
   "execution_count": 4,
   "metadata": {},
   "outputs": [],
   "source": [
    "import pandas as pd\n",
    "import sqlite3\n",
    "import requests\n",
    "from io import StringIO\n",
    "import xml.etree.ElementTree as ET"
   ]
  },
  {
   "cell_type": "code",
   "execution_count": 5,
   "metadata": {},
   "outputs": [],
   "source": [
    "# URL der XML-Datei\n",
    "xml_url = \"https://raw.githubusercontent.com/Indorhc3/LetsMeet/main/Lets_Meet_Hobbies.xml\"\n"
   ]
  },
  {
   "cell_type": "code",
   "execution_count": 6,
   "metadata": {},
   "outputs": [],
   "source": [
    "# XML-Datei aus der URL herunterladen\n",
    "response = requests.get(xml_url)\n",
    "response.raise_for_status()  # Sicherstellen, dass der Download erfolgreich war"
   ]
  },
  {
   "cell_type": "code",
   "execution_count": 7,
   "metadata": {},
   "outputs": [],
   "source": [
    "# XML-Daten einlesen und parsen\n",
    "tree = ET.ElementTree(ET.fromstring(response.text))\n",
    "root = tree.getroot()"
   ]
  },
  {
   "cell_type": "code",
   "execution_count": 8,
   "metadata": {},
   "outputs": [],
   "source": [
    "# Liste zur Speicherung der extrahierten Daten\n",
    "data = []\n",
    "\n",
    "# XML-Daten durchlaufen und extrahieren\n",
    "for entry in root.findall('entry'):  # Beispiel: Angenommen, jedes Element im XML hat den Tag 'entry'\n",
    "    name = entry.find('name').text if entry.find('name') is not None else None\n",
    "    hobby = entry.find('hobby').text if entry.find('hobby') is not None else None\n",
    "    priority = entry.find('priority').text if entry.find('priority') is not None else None\n",
    "    data.append((name, hobby, priority))"
   ]
  },
  {
   "cell_type": "code",
   "execution_count": 9,
   "metadata": {},
   "outputs": [],
   "source": [
    "\n",
    "# Erstelle DataFrame aus den extrahierten Daten\n",
    "df = pd.DataFrame(data, columns=['name', 'hobby', 'priority'])"
   ]
  },
  {
   "cell_type": "code",
   "execution_count": 10,
   "metadata": {},
   "outputs": [],
   "source": [
    "# Verbindung zur SQLite-Datenbank herstellen (oder einer anderen Datenbank, falls gewünscht)\n",
    "conn = sqlite3.connect(\"database.db\")\n",
    "cursor = conn.cursor()"
   ]
  },
  {
   "cell_type": "code",
   "execution_count": 11,
   "metadata": {},
   "outputs": [
    {
     "data": {
      "text/plain": [
       "<sqlite3.Cursor at 0x1fd7f855f40>"
      ]
     },
     "execution_count": 11,
     "metadata": {},
     "output_type": "execute_result"
    }
   ],
   "source": [
    "# Tabelle erstellen, falls nicht vorhanden\n",
    "create_table_query = \"\"\"\n",
    "CREATE TABLE IF NOT EXISTS hobbies_from_xml (\n",
    "    id INTEGER PRIMARY KEY AUTOINCREMENT,\n",
    "    name TEXT,\n",
    "    hobby TEXT,\n",
    "    priority TEXT\n",
    ");\n",
    "\"\"\"\n",
    "cursor.execute(create_table_query)"
   ]
  },
  {
   "cell_type": "code",
   "execution_count": 12,
   "metadata": {},
   "outputs": [],
   "source": [
    "# Daten in die Datenbank einfügen\n",
    "for _, row in df.iterrows():\n",
    "    cursor.execute(\"\"\"\n",
    "    INSERT INTO hobbies_from_xml (name, hobby, priority)\n",
    "    VALUES (?, ?, ?)\n",
    "    \"\"\", (row['name'], row['hobby'], row['priority']))"
   ]
  },
  {
   "cell_type": "code",
   "execution_count": 13,
   "metadata": {},
   "outputs": [
    {
     "name": "stdout",
     "output_type": "stream",
     "text": [
      "Daten aus der XML-Datei wurden erfolgreich importiert.\n"
     ]
    }
   ],
   "source": [
    "# Änderungen speichern und Verbindung schließen\n",
    "conn.commit()\n",
    "conn.close()\n",
    "\n",
    "print(\"Daten aus der XML-Datei wurden erfolgreich importiert.\")"
   ]
  },
  {
   "cell_type": "code",
   "execution_count": null,
   "metadata": {},
   "outputs": [],
   "source": []
  }
 ],
 "metadata": {
  "kernelspec": {
   "display_name": "FA23B",
   "language": "python",
   "name": "python3"
  },
  "language_info": {
   "codemirror_mode": {
    "name": "ipython",
    "version": 3
   },
   "file_extension": ".py",
   "mimetype": "text/x-python",
   "name": "python",
   "nbconvert_exporter": "python",
   "pygments_lexer": "ipython3",
   "version": "3.12.6"
  }
 },
 "nbformat": 4,
 "nbformat_minor": 2
}
